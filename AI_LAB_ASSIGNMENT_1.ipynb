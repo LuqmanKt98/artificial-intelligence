{
  "nbformat": 4,
  "nbformat_minor": 0,
  "metadata": {
    "colab": {
      "provenance": []
    },
    "kernelspec": {
      "name": "python3",
      "display_name": "Python 3"
    },
    "language_info": {
      "name": "python"
    }
  },
  "cells": [
    {
      "cell_type": "markdown",
      "source": [
        "# **BFS AND DFS**"
      ],
      "metadata": {
        "id": "Ltx-OJodht-U"
      }
    },
    {
      "cell_type": "code",
      "source": [
        "# BFS\n",
        "\n",
        "from collections import deque\n",
        "\n",
        "def bfs(graph,start):\n",
        "  visited = set()\n",
        "  queue = deque([start])\n",
        "  visited.add(start)\n",
        "\n",
        "  while queue:\n",
        "    node = queue.popleft()\n",
        "    print(node , end=\" \")\n",
        "\n",
        "    for neighbor in graph[node]:\n",
        "      if neighbor not in visited:\n",
        "        queue.append(neighbor)\n",
        "        visited.add(neighbor)\n",
        "\n",
        "graph = {\n",
        "    0: [1, 2],\n",
        "    1: [2],\n",
        "    2: [0, 3],\n",
        "    3: []\n",
        "}\n",
        "\n",
        "bfs(graph, 0)"
      ],
      "metadata": {
        "colab": {
          "base_uri": "https://localhost:8080/"
        },
        "id": "ccadx-rHibsH",
        "outputId": "3d201cf7-83a0-4535-ca72-6eb06db11161"
      },
      "execution_count": null,
      "outputs": [
        {
          "output_type": "stream",
          "name": "stdout",
          "text": [
            "0 1 2 3 "
          ]
        }
      ]
    },
    {
      "cell_type": "code",
      "source": [
        "# Define the depth-first search function with parameters for visited nodes,\n",
        "# graph structure, and starting node\n",
        "\n",
        "def dfs(visited, graph, node):\n",
        "    # Print the current node, ensuring no newline is added after printing\n",
        "    print(node, end=\" \")\n",
        "    # Add the current node to the set of visited nodes\n",
        "    visited.add(node)\n",
        "\n",
        "    # Iterate through neighbors of the current node\n",
        "    for neighbor in graph[node]:\n",
        "        # Check if the neighbor has not been visited yet\n",
        "        if neighbor not in visited:\n",
        "            # Recursively call dfs function for the unvisited neighbor\n",
        "            dfs(visited, graph, neighbor)\n",
        "\n",
        "# Graph representation using a dictionary\n",
        "graph = {\n",
        "    'A': ['B', 'C'],\n",
        "    'B': ['D', 'E'],\n",
        "    'C': ['F'],\n",
        "    'D': [],\n",
        "    'E': ['F'],\n",
        "    'F': []\n",
        "}\n",
        "\n",
        "# Set to keep track of visited nodes\n",
        "visited = set()\n",
        "\n",
        "# Start the depth-first search from node 'B'\n",
        "dfs(visited, graph, 'B')\n"
      ],
      "metadata": {
        "id": "y7Xp66dB8gnH",
        "colab": {
          "base_uri": "https://localhost:8080/"
        },
        "outputId": "fde07358-9386-4efa-c37c-78732fb034b7"
      },
      "execution_count": null,
      "outputs": [
        {
          "output_type": "stream",
          "name": "stdout",
          "text": [
            "B D E F "
          ]
        }
      ]
    },
    {
      "cell_type": "markdown",
      "source": [],
      "metadata": {
        "id": "7mZKm5dRI_SD"
      }
    },
    {
      "cell_type": "markdown",
      "source": [
        "# **TASK 2**"
      ],
      "metadata": {
        "id": "4kDqquTSUyoS"
      }
    },
    {
      "cell_type": "code",
      "source": [
        "import random\n",
        "import time\n",
        "from collections import deque\n",
        "import pandas as pd\n",
        "import matplotlib.pyplot as plt\n",
        "\n",
        "# Function to generate random unique numbers within a specified range\n",
        "def generate_unique_numbers(range_size, total_numbers):\n",
        "    numbers = set()\n",
        "    while len(numbers) < total_numbers:\n",
        "        numbers.add(random.randint(1, range_size))\n",
        "    return list(numbers)\n",
        "\n",
        "# Function to build a binary tree from a list of numbers\n",
        "def build_tree(lst):\n",
        "    tree = {}\n",
        "    for num in lst:\n",
        "        if not tree:  # If the tree is empty, create the root node\n",
        "            tree[num] = {'left': None, 'right': None}\n",
        "        else:\n",
        "            current = tree\n",
        "            while True:\n",
        "                if num < list(current.keys())[0]:  # If the number is smaller, traverse left\n",
        "                    if current[list(current.keys())[0]]['left'] is None:\n",
        "                        current[list(current.keys())[0]]['left'] = {num: {'left': None, 'right': None}}\n",
        "                        break\n",
        "                    else:\n",
        "                        current = current[list(current.keys())[0]]['left']\n",
        "                else:  # If the number is larger, traverse right\n",
        "                    if current[list(current.keys())[0]]['right'] is None:\n",
        "                        current[list(current.keys())[0]]['right'] = {num: {'left': None, 'right': None}}\n",
        "                        break\n",
        "                    else:\n",
        "                        current = current[list(current.keys())[0]]['right']\n",
        "    return tree\n",
        "\n",
        "# Breadth First Search algorithm to find a goal value in a binary tree\n",
        "def bfs(tree, goal):\n",
        "    start_time = time.time()\n",
        "    queue = deque([(tree, [])])  # Initialize a queue with the root node and an empty path\n",
        "    while queue:\n",
        "        node, path = queue.popleft()  # Pop the leftmost node from the queue\n",
        "        if list(node.keys())[0] == goal:  # If the goal is found, return the time taken\n",
        "            end_time = time.time()\n",
        "            return end_time - start_time\n",
        "        if node[list(node.keys())[0]]['left']:  # If the left child exists, append it to the queue\n",
        "            queue.append((node[list(node.keys())[0]]['left'], path + [list(node.keys())[0]]))\n",
        "        if node[list(node.keys())[0]]['right']:  # If the right child exists, append it to the queue\n",
        "            queue.append((node[list(node.keys())[0]]['right'], path + [list(node.keys())[0]]))\n",
        "    return None\n",
        "\n",
        "# Depth First Search algorithm to find a goal value in a binary tree\n",
        "def dfs(tree, goal):\n",
        "    start_time = time.time()\n",
        "    stack = [(tree, [])]  # Initialize a stack with the root node and an empty path\n",
        "    while stack:\n",
        "        node, path = stack.pop()  # Pop the top node from the stack\n",
        "        if list(node.keys())[0] == goal:  # If the goal is found, return the time taken\n",
        "            end_time = time.time()\n",
        "            return end_time - start_time\n",
        "        if node[list(node.keys())[0]]['right']:  # If the right child exists, append it to the stack\n",
        "            stack.append((node[list(node.keys())[0]]['right'], path + [list(node.keys())[0]]))\n",
        "        if node[list(node.keys())[0]]['left']:  # If the left child exists, append it to the stack\n",
        "            stack.append((node[list(node.keys())[0]]['left'], path + [list(node.keys())[0]]))\n",
        "    return None\n",
        "\n",
        "# Generate random unique numbers for each specified range\n",
        "ranges = [1000, 40000, 80000, 200000, 1000000]\n",
        "results = []\n",
        "\n",
        "for range_size in ranges:\n",
        "    lst = generate_unique_numbers(range_size, 1000)  # Generate a list of unique numbers\n",
        "    tree = build_tree(lst)  # Build a binary tree from the list\n",
        "    goal = lst[-220]  # Set the goal value to be searched for\n",
        "    bfs_time = bfs(tree, goal)  # Perform BFS and record the time taken\n",
        "    dfs_time = dfs(tree, goal)  # Perform DFS and record the time taken\n",
        "    results.append([range_size, bfs_time, dfs_time])  # Append results for this range\n",
        "\n",
        "# Create a dataframe to store the results\n",
        "df = pd.DataFrame(results, columns=['Range', 'BFS Time', 'DFS Time'])\n",
        "print(df)  # Print the dataframe containing the results\n",
        "\n",
        "# Plotting\n",
        "plt.figure(figsize=(10, 6))\n",
        "\n",
        "# Extracting data for plotting\n",
        "range_sizes = df['Range']\n",
        "bfs_times = df['BFS Time']\n",
        "dfs_times = df['DFS Time']\n",
        "\n",
        "# Plotting BFS time\n",
        "plt.bar(range(len(range_sizes)), bfs_times, width=0.4, align='center', label='BFS')\n",
        "\n",
        "# Plotting DFS time\n",
        "plt.bar([i + 0.4 for i in range(len(range_sizes))], dfs_times, width=0.4, align='center', label='DFS')\n",
        "\n",
        "# X-axis\n",
        "plt.xticks([i + 0.2 for i in range(len(range_sizes))], range_sizes)\n",
        "plt.xlabel('Range Size')\n",
        "\n",
        "# Y-axis\n",
        "plt.ylabel('Time (Seconds)')\n",
        "\n",
        "# Title and legend\n",
        "plt.title('Time Taken by BFS and DFS for Different Range Sizes')\n",
        "plt.legend()\n",
        "\n",
        "# Show plot\n",
        "plt.tight_layout()\n",
        "plt.show()\n"
      ],
      "metadata": {
        "colab": {
          "base_uri": "https://localhost:8080/",
          "height": 711
        },
        "id": "fpAM5k2JU4Ek",
        "outputId": "cb9ad28f-bd6a-41b4-83e0-7c085f0c4636"
      },
      "execution_count": null,
      "outputs": [
        {
          "output_type": "stream",
          "name": "stdout",
          "text": [
            "     Range  BFS Time  DFS Time\n",
            "0     1000  0.003824  0.003617\n",
            "1    40000  0.005780  0.001899\n",
            "2    80000  0.002483  0.002725\n",
            "3   200000  0.002246  0.003000\n",
            "4  1000000  0.000897  0.002925\n"
          ]
        },
        {
          "output_type": "display_data",
          "data": {
            "text/plain": [
              "<Figure size 1000x600 with 1 Axes>"
            ],
            "image/png": "[encoded data removed]"
          },
          "metadata": {}
        }
      ]
    },
    {
      "cell_type": "markdown",
      "source": [
        "# **TASK 3**"
      ],
      "metadata": {
        "id": "XlMUANTxkB5d"
      }
    },
    {
      "cell_type": "code",
      "source": [
        "# A* search algorithm\n",
        "\n",
        "# Node class to represent a node in the search space\n",
        "class Node:\n",
        "    def __init__(self, parent, position, g, h):\n",
        "        self.parent = parent  # Parent node\n",
        "        self.position = position  # Position of the node in the maze\n",
        "        self.g = g  # Cost from start to current node\n",
        "        self.h = h  # Heuristic estimate of the cost from current node to goal\n",
        "        self.f = g + h  # Total cost\n",
        "\n",
        "# A* search function\n",
        "def a_star_search(maze, start, end):\n",
        "    rows, cols = len(maze), len(maze[0])\n",
        "    open_set = []  # List of nodes to be evaluated\n",
        "    closed_set = set()  # Set of visited nodes\n",
        "    start_node = Node(None, start, 0, manhattan_distance(start, end))  # Create the start node\n",
        "    open_set.append(start_node)  # Add the start node to the list of nodes to be evaluated\n",
        "\n",
        "    # Loop until all nodes have been evaluated\n",
        "    while open_set:\n",
        "        current_node = min(open_set, key=lambda x: x.f)  # Get the node with the lowest total cost\n",
        "        open_set.remove(current_node)  # Remove the current node from the list of nodes to be evaluated\n",
        "        closed_set.add(current_node.position)  # Add the current node to the set of visited nodes\n",
        "\n",
        "        # If the current node is the goal node, reconstruct and return the path\n",
        "        if current_node.position == end:\n",
        "            path = []\n",
        "            while current_node:\n",
        "                path.append(current_node.position)\n",
        "                current_node = current_node.parent\n",
        "            return path[::-1]  # Return the path in reversed order\n",
        "\n",
        "        # Generate neighbors of the current node\n",
        "        for i, j in ((-1, 0), (1, 0), (0, -1), (0, 1)):\n",
        "            neighbor_position = (current_node.position[0] + i, current_node.position[1] + j)\n",
        "            # Check if the neighbor is within the maze boundaries and is not an obstacle\n",
        "            if 0 <= neighbor_position[0] < rows and 0 <= neighbor_position[1] < cols and maze[neighbor_position[0]][neighbor_position[1]] != '#':\n",
        "                # If the neighbor has already been visited, skip it\n",
        "                if neighbor_position in closed_set:\n",
        "                    continue\n",
        "                tentative_g = current_node.g + 1  # Calculate the tentative cost from start to neighbor\n",
        "\n",
        "                # Create a new node for the neighbor\n",
        "                new_node = Node(current_node, neighbor_position, tentative_g, manhattan_distance(neighbor_position, end))\n",
        "                open_set_member = any(node.position == neighbor_position for node in open_set)  # Check if the neighbor is in the list of nodes to be evaluated\n",
        "                # If the neighbor is not in the list of nodes to be evaluated or the tentative cost is lower than its current cost, update the neighbor's cost and add it to the list of nodes to be evaluated\n",
        "                if not open_set_member or tentative_g < new_node.g:\n",
        "                    new_node.g = tentative_g\n",
        "                    open_set.append(new_node)\n",
        "\n",
        "    return None  # Return None if no path is found\n",
        "\n",
        "# Function to calculate the Manhattan distance between two points\n",
        "def manhattan_distance(point1, point2):\n",
        "    x1, y1 = point1\n",
        "    x2, y2 = point2\n",
        "    return abs(x1 - x2) + abs(y1 - y2)\n",
        "\n",
        "# Example usage\n",
        "maze = [\n",
        "    ['.', '.', '.', '.', '.', '.', '.'],\n",
        "    ['.', '#', '.', '.', '.', '#', '.'],\n",
        "    ['.', '.', '.', '.', '.', '.', '.'],\n",
        "    ['.', '#', '#', '#', '.', '.', '.'],\n",
        "    ['.', '.', '.', '.', '.', '#', '.'],\n",
        "    ['.', '.', '.', '.', '.', '.', 'Y'],\n",
        "]\n",
        "\n",
        "start = (0, 0)  # Position of the starting node\n",
        "end = (5, 6)  # Position of the ending node\n",
        "\n",
        "path = a_star_search(maze, start, end)\n",
        "\n",
        "if path:\n",
        "    print(\"Path found:\", path)\n",
        "else:\n",
        "    print(\"No path found\")\n"
      ],
      "metadata": {
        "colab": {
          "base_uri": "https://localhost:8080/"
        },
        "id": "SIHui31DkEqJ",
        "outputId": "4009156d-3e4f-4cd0-cd45-b706f5cfc6fa"
      },
      "execution_count": null,
      "outputs": [
        {
          "output_type": "stream",
          "name": "stdout",
          "text": [
            "Path found: [(0, 0), (1, 0), (2, 0), (3, 0), (4, 0), (5, 0), (5, 1), (5, 2), (5, 3), (5, 4), (5, 5), (5, 6)]\n"
          ]
        }
      ]
    },
    {
      "cell_type": "markdown",
      "source": [
        "# **TASK 4**"
      ],
      "metadata": {
        "id": "HoY0ImYauup6"
      }
    },
    {
      "cell_type": "code",
      "source": [
        "class Node:\n",
        "    def __init__(self, value=None):\n",
        "        self.value = value  # Initialize the value of the node\n",
        "        self.children = []  # Initialize an empty list to store children nodes\n",
        "\n",
        "    def add_child(self, child):\n",
        "        self.children.append(child)  # Add a child node to the list of children nodes\n",
        "\n",
        "def minimax(node, depth, alpha, beta, maximizing_player):\n",
        "    if depth == 0 or not node.children:\n",
        "        # If we have reached the maximum depth or the node has no children, return the value of the node\n",
        "        return node.value\n",
        "\n",
        "    if maximizing_player:\n",
        "        max_eval = float('-inf')  # Initialize the maximum evaluation to negative infinity\n",
        "        for child in node.children:\n",
        "            eval = minimax(child, depth - 1, alpha, beta, False)  # Recursively call minimax for each child node\n",
        "            max_eval = max(max_eval, eval)  # Update max_eval with the maximum of its current value and the evaluation of the child node\n",
        "            alpha = max(alpha, eval)  # Update alpha with the maximum of its current value and the evaluation of the child node\n",
        "            if beta <= alpha:\n",
        "                # If beta is less than or equal to alpha, prune the subtree\n",
        "                break\n",
        "        return max_eval\n",
        "    else:\n",
        "        min_eval = float('inf')  # Initialize the minimum evaluation to positive infinity\n",
        "        for child in node.children:\n",
        "            eval = minimax(child, depth - 1, alpha, beta, True)  # Recursively call minimax for each child node\n",
        "            min_eval = min(min_eval, eval)  # Update min_eval with the minimum of its current value and the evaluation of the child node\n",
        "            beta = min(beta, eval)  # Update beta with the minimum of its current value and the evaluation of the child node\n",
        "            if beta <= alpha:\n",
        "                # If beta is less than or equal to alpha, prune the subtree\n",
        "                break\n",
        "        return min_eval\n",
        "\n",
        "# Example usage\n",
        "root = Node()  # Create the root node\n",
        "root.value = 0  # Set the value of the root node\n",
        "a = Node(3)  # Create a child node with value 3\n",
        "b = Node(5)  # Create a child node with value 5\n",
        "c = Node(6)  # Create a child node with value 6\n",
        "d = Node(9)  # Create a child node with value 9\n",
        "e = Node(1)  # Create a child node with value 1\n",
        "f = Node(2)  # Create a child node with value 2\n",
        "root.add_child(a)  # Add node a as a child of the root node\n",
        "root.add_child(b)  # Add node b as a child of the root node\n",
        "root.add_child(c)  # Add node c as a child of the root node\n",
        "a.add_child(d)  # Add node d as a child of node a\n",
        "a.add_child(e)  # Add node e as a child of node a\n",
        "b.add_child(f)  # Add node f as a child of node b\n",
        "\n",
        "print(\"Result:\", minimax(root, 3, float('-inf'), float('inf'), True))  # Call the minimax function with the root node and print the result\n"
      ],
      "metadata": {
        "id": "bkNuri0quzUE",
        "colab": {
          "base_uri": "https://localhost:8080/"
        },
        "outputId": "c8ed6b07-c0f8-4ca4-cf29-ce6aaacc2b1f"
      },
      "execution_count": 5,
      "outputs": [
        {
          "output_type": "stream",
          "name": "stdout",
          "text": [
            "Result: 6\n"
          ]
        }
      ]
    }
  ]
}